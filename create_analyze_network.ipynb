{
 "cells": [
  {
   "cell_type": "code",
   "execution_count": 5,
   "metadata": {
    "collapsed": true
   },
   "outputs": [],
   "source": [
    "import numpy as np\n",
    "from numpy.random import randn, rand\n",
    "from scipy.stats import norm\n",
    "from network.nw_creator import create_network\n",
    "from network.nw import Network\n",
    "\n",
    "n_neurons = (100, 100)\n",
    "celltypes = 'e', 'i'\n",
    "\n",
    "# let's distribute neurons according to a 3D normal distribution\n",
    "def distribute_neurons(n):\n",
    "    sigma = 200.0\n",
    "    return [sigma * randn(3) for i in range(n)]\n",
    "\n",
    "# set up connectivity as another normal distribution, only depending on distance between neurons\n",
    "def decide_connection(x1, x2):\n",
    "    diff = np.sqrt(np.dot(x1 - x2, x1 - x2))\n",
    "    scale = 50.0\n",
    "    threshold = norm.pdf(diff, loc=0.0, scale=scale) * scale\n",
    "    return rand() < threshold\n",
    "\n",
    "# create params dictionary\n",
    "params = dict()\n",
    "params['N'] = n_neurons\n",
    "params['celltypes'] = celltypes\n",
    "params['neuron_distribution'] = distribute_neurons\n",
    "params['connection_pattern'] = decide_connection\n",
    "\n",
    "network = create_network(params)\n",
    "# empirical connection probability\n",
    "pc = 1.0 * np.sum(network.connections) / (network.connections.shape[0] ** 2)"
   ]
  },
  {
   "cell_type": "code",
   "execution_count": 2,
   "outputs": [
    {
     "ename": "TypeError",
     "evalue": "ufunc 'isnan' not supported for the input types, and the inputs could not be safely coerced to any supported types according to the casting rule ''safe''",
     "output_type": "error",
     "traceback": [
      "\u001B[0;31m---------------------------------------------------------------------------\u001B[0m",
      "\u001B[0;31mTypeError\u001B[0m                                 Traceback (most recent call last)",
      "\u001B[0;32m<ipython-input-2-6275faffb29b>\u001B[0m in \u001B[0;36m<module>\u001B[0;34m\u001B[0m\n\u001B[1;32m      8\u001B[0m \u001B[0;32mfor\u001B[0m \u001B[0mct\u001B[0m \u001B[0;32min\u001B[0m \u001B[0mcelltypes\u001B[0m\u001B[0;34m:\u001B[0m\u001B[0;34m\u001B[0m\u001B[0;34m\u001B[0m\u001B[0m\n\u001B[1;32m      9\u001B[0m     \u001B[0mlocations_\u001B[0m \u001B[0;34m=\u001B[0m \u001B[0mnp\u001B[0m\u001B[0;34m.\u001B[0m\u001B[0marray\u001B[0m\u001B[0;34m(\u001B[0m\u001B[0;34m[\u001B[0m\u001B[0mneuron\u001B[0m\u001B[0;34m.\u001B[0m\u001B[0mlocation\u001B[0m \u001B[0;32mif\u001B[0m \u001B[0mneuron\u001B[0m\u001B[0;34m.\u001B[0m\u001B[0mcelltype\u001B[0m \u001B[0;34m==\u001B[0m \u001B[0mct\u001B[0m \u001B[0;32melse\u001B[0m \u001B[0mnp\u001B[0m\u001B[0;34m.\u001B[0m\u001B[0mnan\u001B[0m \u001B[0;32mfor\u001B[0m \u001B[0mneuron\u001B[0m \u001B[0;32min\u001B[0m \u001B[0mnetwork\u001B[0m\u001B[0;34m.\u001B[0m\u001B[0mneurons\u001B[0m\u001B[0;34m]\u001B[0m\u001B[0;34m)\u001B[0m\u001B[0;34m\u001B[0m\u001B[0;34m\u001B[0m\u001B[0m\n\u001B[0;32m---> 10\u001B[0;31m     \u001B[0mlocations\u001B[0m \u001B[0;34m=\u001B[0m \u001B[0mlocations_\u001B[0m\u001B[0;34m[\u001B[0m\u001B[0;32mnot\u001B[0m \u001B[0mnp\u001B[0m\u001B[0;34m.\u001B[0m\u001B[0misnan\u001B[0m\u001B[0;34m(\u001B[0m\u001B[0mlocations_\u001B[0m\u001B[0;34m)\u001B[0m\u001B[0;34m]\u001B[0m\u001B[0;34m\u001B[0m\u001B[0;34m\u001B[0m\u001B[0m\n\u001B[0m\u001B[1;32m     11\u001B[0m     \u001B[0max1\u001B[0m\u001B[0;34m.\u001B[0m\u001B[0mplot\u001B[0m\u001B[0;34m(\u001B[0m\u001B[0mlocations\u001B[0m\u001B[0;34m[\u001B[0m\u001B[0;36m0\u001B[0m\u001B[0;34m]\u001B[0m\u001B[0;34m,\u001B[0m \u001B[0mlocations\u001B[0m\u001B[0;34m[\u001B[0m\u001B[0;36m1\u001B[0m\u001B[0;34m]\u001B[0m\u001B[0;34m,\u001B[0m \u001B[0;34m'o'\u001B[0m\u001B[0;34m,\u001B[0m \u001B[0mlabel\u001B[0m\u001B[0;34m=\u001B[0m\u001B[0mct\u001B[0m\u001B[0;34m)\u001B[0m\u001B[0;34m\u001B[0m\u001B[0;34m\u001B[0m\u001B[0m\n\u001B[1;32m     12\u001B[0m     \u001B[0max2\u001B[0m\u001B[0;34m.\u001B[0m\u001B[0mplot\u001B[0m\u001B[0;34m(\u001B[0m\u001B[0mlocations\u001B[0m\u001B[0;34m[\u001B[0m\u001B[0;36m0\u001B[0m\u001B[0;34m]\u001B[0m\u001B[0;34m,\u001B[0m \u001B[0mlocations\u001B[0m\u001B[0;34m[\u001B[0m\u001B[0;36m2\u001B[0m\u001B[0;34m]\u001B[0m\u001B[0;34m,\u001B[0m \u001B[0;34m'o'\u001B[0m\u001B[0;34m,\u001B[0m \u001B[0mlabel\u001B[0m\u001B[0;34m=\u001B[0m\u001B[0mct\u001B[0m\u001B[0;34m)\u001B[0m\u001B[0;34m\u001B[0m\u001B[0;34m\u001B[0m\u001B[0m\n",
      "\u001B[0;31mTypeError\u001B[0m: ufunc 'isnan' not supported for the input types, and the inputs could not be safely coerced to any supported types according to the casting rule ''safe''"
     ]
    },
    {
     "data": {
      "text/plain": "<Figure size 432x288 with 2 Axes>",
      "image/png": "[encoded data removed]"
     },
     "metadata": {
      "needs_background": "light"
     },
     "output_type": "display_data"
    }
   ],
   "source": [
    "# Let's take a look at the network we just created\n",
    "# 2D projections (x-y and x-z) of the neuron locations\n",
    "# colored by cell type\n",
    "import matplotlib.pyplot as plt\n",
    "fig1 = plt.figure(1)\n",
    "ax1 = fig1.add_subplot(1, 2, 1)\n",
    "ax2 = fig1.add_subplot(1, 2, 2)\n",
    "for ct in celltypes:\n",
    "    locations_ = np.array([neuron.location if neuron.celltype == ct else np.nan for neuron in network.neurons])\n",
    "    locations = locations_[not np.isnan(locations_)]\n",
    "    ax1.plot(locations[0], locations[1], 'o', label=ct)\n",
    "    ax2.plot(locations[0], locations[2], 'o', label=ct)\n",
    "plt.legend()\n",
    "plt.show()\n"
   ],
   "metadata": {
    "collapsed": false,
    "pycharm": {
     "name": "#%%\n"
    }
   }
  }
 ],
 "metadata": {
  "kernelspec": {
   "display_name": "Python 3",
   "language": "python",
   "name": "python3"
  },
  "language_info": {
   "codemirror_mode": {
    "name": "ipython",
    "version": 2
   },
   "file_extension": ".py",
   "mimetype": "text/x-python",
   "name": "python",
   "nbconvert_exporter": "python",
   "pygments_lexer": "ipython2",
   "version": "2.7.6"
  }
 },
 "nbformat": 4,
 "nbformat_minor": 0
}