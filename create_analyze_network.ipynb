{
 "cells": [
  {
   "cell_type": "code",
   "execution_count": 11,
   "metadata": {
    "collapsed": true
   },
   "outputs": [],
   "source": [
    "import numpy as np\n",
    "from numpy.random import randn, rand\n",
    "from scipy.stats import norm\n",
    "from network.nw_creator import create_network\n",
    "from network.nw import Network\n",
    "\n",
    "n_neurons = (100, 100)\n",
    "celltypes = 'e', 'i'\n",
    "\n",
    "# let's distribute neurons according to a 3D normal distribution\n",
    "def distribute_neurons(n):\n",
    "    sigma = 200.0\n",
    "    return [sigma * randn(3)] * n\n",
    "\n",
    "# set up connectivity as another normal distribution, only depending on distance between neurons\n",
    "def decide_connection(x1, x2):\n",
    "    diff = np.sqrt(np.dot(x1 - x2, x1 - x2))\n",
    "    scale = 50.0\n",
    "    threshold = norm.pdf(diff, loc=0.0, scale=scale) * scale\n",
    "    return rand() < threshold\n",
    "\n",
    "# create params dictionary\n",
    "params = dict()\n",
    "params['N'] = n_neurons\n",
    "params['celltypes'] = celltypes\n",
    "params['neuron_distribution'] = distribute_neurons\n",
    "params['connection_pattern'] = decide_connection\n",
    "\n",
    "network = create_network(params)\n",
    "# empirical connection probability\n",
    "pc = 1.0 * np.sum(network.connections) / (network.connections.shape[0] ** 2)\n"
   ]
  }
 ],
 "metadata": {
  "kernelspec": {
   "display_name": "Python 3",
   "language": "python",
   "name": "python3"
  },
  "language_info": {
   "codemirror_mode": {
    "name": "ipython",
    "version": 2
   },
   "file_extension": ".py",
   "mimetype": "text/x-python",
   "name": "python",
   "nbconvert_exporter": "python",
   "pygments_lexer": "ipython2",
   "version": "2.7.6"
  }
 },
 "nbformat": 4,
 "nbformat_minor": 0
}