{
 "cells": [
  {
   "cell_type": "code",
   "execution_count": 1,
   "metadata": {
    "collapsed": true
   },
   "outputs": [],
   "source": [
    "from numpy.random import randn\n",
    "from scipy.stats import norm\n",
    "from network.nw_creator import create_network\n",
    "from network.nw import Network\n",
    "\n",
    "n_neurons = (100, 100)\n",
    "celltypes = 'e', 'i'\n",
    "\n",
    "# let's distribute neurons according to a 3D normal distribution\n",
    "def distribute_neurons(n):\n",
    "    sigma = 200.0\n",
    "    return [sigma * randn(3)]\n",
    "\n",
    "# set up connectivity as another normal distribution, only depending on distance between neurons\n",
    "def decide_connection(x1, x2):\n",
    "    diff = x1 - x2\n",
    "    scale = 50.0\n",
    "    threshold = norm.pdf(diff, scale=scale)\n"
   ]
  }
 ],
 "metadata": {
  "kernelspec": {
   "display_name": "Python 3",
   "language": "python",
   "name": "python3"
  },
  "language_info": {
   "codemirror_mode": {
    "name": "ipython",
    "version": 2
   },
   "file_extension": ".py",
   "mimetype": "text/x-python",
   "name": "python",
   "nbconvert_exporter": "python",
   "pygments_lexer": "ipython2",
   "version": "2.7.6"
  }
 },
 "nbformat": 4,
 "nbformat_minor": 0
}